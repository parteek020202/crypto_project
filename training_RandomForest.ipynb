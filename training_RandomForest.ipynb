{
 "cells": [
  {
   "cell_type": "code",
   "execution_count": 7,
   "id": "3433d269-8455-49b7-acbf-6c10ef9ec8d4",
   "metadata": {},
   "outputs": [
    {
     "name": "stdout",
     "output_type": "stream",
     "text": [
      "MSE for BTC-USD: 687481371.4572836\n",
      "MAPE for BTC-USD: 24.51%\n",
      "Directional Accuracy for BTC-USD: 49.65%\n",
      "\n",
      "Prediction Sample:\n",
      "                  Actual     Predicted\n",
      "Date                                  \n",
      "2024-10-15  67612.718750  66712.689824\n",
      "2024-10-16  67399.835938  67578.992497\n",
      "2024-10-17  68418.789062  67448.687259\n",
      "2024-10-18  68362.734375  68165.814316\n",
      "2024-10-19  69001.703125  68080.916619\n"
     ]
    }
   ],
   "source": [
    "import pandas as pd\n",
    "from sklearn.ensemble import RandomForestRegressor\n",
    "from sklearn.metrics import mean_squared_error, mean_absolute_percentage_error\n",
    "from sklearn.model_selection import train_test_split\n",
    "from sklearn.preprocessing import StandardScaler\n",
    "import joblib\n",
    "\n",
    "# Load processed data\n",
    "ticker = \"BTC-USD\"\n",
    "df = pd.read_csv(f\"{ticker}_processed.csv\", index_col=\"Date\", parse_dates=True)\n",
    "\n",
    "# Features and target\n",
    "features = [\"Open\", \"High\", \"Low\", \"Close\", \"Volume\", \"Lag1\", \"Lag7\", \"SMA7\", \"RSI14\", \"MACD\", \"Returns\"]\n",
    "X = df[features]\n",
    "y = df[\"Target\"]\n",
    "\n",
    "# Split the data\n",
    "X_train, X_test, y_train, y_test = train_test_split(X, y, test_size=0.2, shuffle=False)\n",
    "\n",
    "# Scale features\n",
    "scaler = StandardScaler()\n",
    "X_train_scaled = scaler.fit_transform(X_train)\n",
    "X_test_scaled = scaler.transform(X_test)\n",
    "\n",
    "# Train the model\n",
    "model = RandomForestRegressor(n_estimators=200, max_depth=10, random_state=42)\n",
    "model.fit(X_train_scaled, y_train)\n",
    "\n",
    "# Predict\n",
    "y_pred = model.predict(X_test_scaled)\n",
    "mse = mean_squared_error(y_test, y_pred)\n",
    "mape = mean_absolute_percentage_error(y_test, y_pred) * 100\n",
    "print(f\"MSE for {ticker}: {mse}\")\n",
    "print(f\"MAPE for {ticker}: {mape:.2f}%\")\n",
    "\n",
    "# Check directional accuracy\n",
    "actual_direction = (y_test.shift(-1) > y_test).astype(int)  # 1 if price increases, 0 if decreases\n",
    "predicted_direction = (pd.Series(y_pred, index=y_test.index).shift(-1) > pd.Series(y_pred, index=y_test.index)).astype(int)\n",
    "directional_accuracy = (actual_direction == predicted_direction).mean() * 100\n",
    "print(f\"Directional Accuracy for {ticker}: {directional_accuracy:.2f}%\")\n",
    "\n",
    "\n",
    "# Preview predictions vs actual\n",
    "results = pd.DataFrame({\"Actual\": y_test, \"Predicted\": y_pred})\n",
    "print(\"\\nPrediction Sample:\")\n",
    "print(results.head())"
   ]
  },
  {
   "cell_type": "code",
   "execution_count": null,
   "id": "447197f5-f77d-46b8-b5fe-41e07a09eb4f",
   "metadata": {},
   "outputs": [],
   "source": []
  }
 ],
 "metadata": {
  "kernelspec": {
   "display_name": "Python [conda env:base] *",
   "language": "python",
   "name": "conda-base-py"
  },
  "language_info": {
   "codemirror_mode": {
    "name": "ipython",
    "version": 3
   },
   "file_extension": ".py",
   "mimetype": "text/x-python",
   "name": "python",
   "nbconvert_exporter": "python",
   "pygments_lexer": "ipython3",
   "version": "3.12.4"
  }
 },
 "nbformat": 4,
 "nbformat_minor": 5
}
