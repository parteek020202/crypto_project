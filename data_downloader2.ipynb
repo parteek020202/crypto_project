{
 "cells": [
  {
   "cell_type": "code",
   "execution_count": 11,
   "id": "8b8e34f1-c129-4942-8570-473a744d1307",
   "metadata": {},
   "outputs": [
    {
     "name": "stderr",
     "output_type": "stream",
     "text": [
      "[*********************100%***********************]  4 of 4 completed"
     ]
    },
    {
     "name": "stdout",
     "output_type": "stream",
     "text": [
      "Price            Close                                             High  \\\n",
      "Ticker         BNB-USD       BTC-USD      ETH-USD   XRP-USD     BNB-USD   \n",
      "Date                                                                      \n",
      "2023-03-06  288.054962  22429.757812  1567.398682  0.370471  289.718384   \n",
      "2023-03-07  289.343689  22219.769531  1561.933105  0.380548  290.216736   \n",
      "2023-03-08  286.867004  21718.080078  1534.088257  0.389188  293.641632   \n",
      "2023-03-09  277.296112  20363.021484  1438.660767  0.372130  291.366486   \n",
      "2023-03-10  277.419586  20187.244141  1429.158081  0.370622  278.100739   \n",
      "\n",
      "Price                                                   Low                \\\n",
      "Ticker           BTC-USD      ETH-USD   XRP-USD     BNB-USD       BTC-USD   \n",
      "Date                                                                        \n",
      "2023-03-06  22584.292969  1579.456299  0.373240  283.953156  22331.314453   \n",
      "2023-03-07  22527.417969  1579.162231  0.383995  284.374084  22011.261719   \n",
      "2023-03-08  22268.896484  1568.175293  0.399060  285.585480  21708.050781   \n",
      "2023-03-09  21802.716797  1544.108398  0.396378  272.728363  20210.306641   \n",
      "2023-03-10  20370.595703  1438.760132  0.374711  265.712433  19628.253906   \n",
      "\n",
      "Price                                    Open                             \\\n",
      "Ticker          ETH-USD   XRP-USD     BNB-USD       BTC-USD      ETH-USD   \n",
      "Date                                                                       \n",
      "2023-03-06  1557.363525  0.360997  288.704498  22436.816406  1564.383179   \n",
      "2023-03-07  1543.127563  0.368150  287.995544  22428.322266  1567.424683   \n",
      "2023-03-08  1534.088257  0.373760  289.327454  22216.441406  1561.977905   \n",
      "2023-03-09  1423.264771  0.366660  286.945770  21720.080078  1534.031616   \n",
      "2023-03-10  1378.525391  0.359882  277.323517  20367.001953  1438.760132   \n",
      "\n",
      "Price                    Volume                                        \n",
      "Ticker       XRP-USD    BNB-USD      BTC-USD      ETH-USD     XRP-USD  \n",
      "Date                                                                   \n",
      "2023-03-06  0.367176  374160712  17353192895   5245153345  1161608429  \n",
      "2023-03-07  0.370440  373176525  22765452204   6854058349  1479466647  \n",
      "2023-03-08  0.380556  436665040  22536575684   7130327525  1881889627  \n",
      "2023-03-09  0.389176  505668979  30364664171   9457897583  1727254553  \n",
      "2023-03-10  0.372094  558776711  39578257695  12665194936  1450894929  \n"
     ]
    },
    {
     "name": "stderr",
     "output_type": "stream",
     "text": [
      "\n"
     ]
    }
   ],
   "source": [
    "import yfinance as yf\n",
    "import pandas as pd\n",
    "def download_4_crypto():\n",
    "    tickers = [\"XRP-USD\", \"BTC-USD\", \"ETH-USD\", \"BNB-USD\"]\n",
    "    start_date = \"2023-03-06\"  # 2 years back from today (March 6, 2025)\n",
    "    end_date = \"2025-03-06\"   \n",
    "\n",
    "\n",
    "    data = yf.download(tickers, start=start_date, end=end_date, interval=\"1d\")\n",
    "    return data\n",
    "\n",
    "crypto_data = download_4_crypto()\n",
    "\n",
    "#Save the data to a CSV file\n",
    "crypto_data.to_csv(\"crypto_4.csv\")\n",
    "\n",
    "print(crypto_data.head())"
   ]
  },
  {
   "cell_type": "code",
   "execution_count": null,
   "id": "4f58bf1b-7f33-4c81-b2ad-00c7624e89a7",
   "metadata": {},
   "outputs": [],
   "source": []
  }
 ],
 "metadata": {
  "kernelspec": {
   "display_name": "Python [conda env:base] *",
   "language": "python",
   "name": "conda-base-py"
  },
  "language_info": {
   "codemirror_mode": {
    "name": "ipython",
    "version": 3
   },
   "file_extension": ".py",
   "mimetype": "text/x-python",
   "name": "python",
   "nbconvert_exporter": "python",
   "pygments_lexer": "ipython3",
   "version": "3.12.4"
  }
 },
 "nbformat": 4,
 "nbformat_minor": 5
}
