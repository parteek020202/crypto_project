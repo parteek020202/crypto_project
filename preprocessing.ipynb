{
 "cells": [
  {
   "cell_type": "code",
   "execution_count": null,
   "id": "a79e2ddc-e879-4854-8c0e-ef74d79cd0ce",
   "metadata": {},
   "outputs": [],
   "source": []
  },
  {
   "cell_type": "code",
   "execution_count": 4,
   "id": "a0b5b2bc-9e0f-4b3e-a67e-c6dbf22acd2f",
   "metadata": {},
   "outputs": [
    {
     "name": "stdout",
     "output_type": "stream",
     "text": [
      "Column names in crypto_4.csv after renaming:\n",
      "['Close BNB-USD', 'Close BTC-USD', 'Close ETH-USD', 'Close XRP-USD', 'High BNB-USD', 'High BTC-USD', 'High ETH-USD', 'High XRP-USD', 'Low BNB-USD', 'Low BTC-USD', 'Low ETH-USD', 'Low XRP-USD', 'Open BNB-USD', 'Open BTC-USD', 'Open ETH-USD', 'Open XRP-USD', 'Volume BNB-USD', 'Volume BTC-USD', 'Volume ETH-USD', 'Volume XRP-USD']\n",
      "Processed BNB-USD: (705, 13) rows, columns: ['Open', 'High', 'Low', 'Close', 'Volume', 'Lag1', 'Lag7', 'SMA7', 'RSI14', 'MACD', 'Returns', 'Target', 'Volatility']\n",
      "Processed BTC-USD: (705, 13) rows, columns: ['Open', 'High', 'Low', 'Close', 'Volume', 'Lag1', 'Lag7', 'SMA7', 'RSI14', 'MACD', 'Returns', 'Target', 'Volatility']\n",
      "Processed ETH-USD: (705, 13) rows, columns: ['Open', 'High', 'Low', 'Close', 'Volume', 'Lag1', 'Lag7', 'SMA7', 'RSI14', 'MACD', 'Returns', 'Target', 'Volatility']\n",
      "Processed XRP-USD: (705, 13) rows, columns: ['Open', 'High', 'Low', 'Close', 'Volume', 'Lag1', 'Lag7', 'SMA7', 'RSI14', 'MACD', 'Returns', 'Target', 'Volatility']\n",
      "\n",
      "BTC-USD Sample:\n",
      "           Date          Open          High           Low         Close  \\\n",
      "700  2025-02-28  84705.625000  85036.320312  78248.914062  84373.007812   \n",
      "701  2025-03-01  84373.867188  86522.304688  83794.234375  86031.914062   \n",
      "702  2025-03-02  86036.257812  95043.437500  85040.210938  94248.351562   \n",
      "703  2025-03-03  94248.421875  94429.750000  85081.304688  86065.671875   \n",
      "704  2025-03-04  86064.070312  88911.273438  81529.242188  87222.195312   \n",
      "\n",
      "          Volume          Lag1          Lag7          SMA7      RSI14  \\\n",
      "700  83610570576  84704.226562  96125.546875  89490.040179  25.465592   \n",
      "701  29190628396  84373.007812  96577.757812  87983.491071  31.176986   \n",
      "702  58398341092  86031.914062  96273.921875  87694.123884  51.145193   \n",
      "703  70072228536  94248.351562  91418.171875  86929.481027  39.007201   \n",
      "704  68095241474  86065.671875  88736.171875  86713.198661  41.133639   \n",
      "\n",
      "            MACD   Returns        Target    Volatility  \n",
      "700 -3273.940747 -0.003910  86031.914062   6787.406250  \n",
      "701 -3409.250192  0.019662  94248.351562   2728.070312  \n",
      "702 -2820.967703  0.095505  86065.671875  10003.226562  \n",
      "703 -2980.664216 -0.086820  87222.195312   9348.445312  \n",
      "704 -2979.556603  0.013438  90623.562500   7382.031250  \n"
     ]
    }
   ],
   "source": [
    "import pandas as pd\n",
    "from ta.trend import SMAIndicator, MACD\n",
    "from ta.momentum import RSIIndicator\n",
    "\n",
    "# read the first two rows to get column names\n",
    "with open(\"crypto_4.csv\", \"r\") as file:\n",
    "    price_row = file.readline().strip().split(\",\")[1:]  # Skip the first empty cell\n",
    "    ticker_row = file.readline().strip().split(\",\")[1:]  # Skip \"Ticker\"\n",
    "\n",
    "# Create proper column names by combining Price and Ticker rows\n",
    "column_names = [f\"{price} {ticker}\" for price, ticker in zip(price_row, ticker_row)]\n",
    "\n",
    "# Now load the data, starting from the Date row\n",
    "data = pd.read_csv(\"crypto_4.csv\", skiprows=2, index_col=0, parse_dates=True)\n",
    "data.columns = column_names  # Assign the correct column names\n",
    "print(\"Column names in crypto_4.csv after renaming:\")\n",
    "print(data.columns.tolist())\n",
    "\n",
    "# Define tickers\n",
    "tickers = [\"BNB-USD\", \"BTC-USD\", \"ETH-USD\", \"XRP-USD\"]\n",
    "\n",
    "# Process each ticker separately\n",
    "for ticker in tickers:\n",
    "    # Select columns for this ticker\n",
    "    df = data[[f\"Open {ticker}\", f\"High {ticker}\", f\"Low {ticker}\", \n",
    "               f\"Close {ticker}\", f\"Volume {ticker}\"]].copy()\n",
    "    df.columns = [\"Open\", \"High\", \"Low\", \"Close\", \"Volume\"]  # Rename for simplicity\n",
    "    \n",
    "    # Clean: Fill missing values and drop NaNs\n",
    "    df.ffill(inplace=True)\n",
    "    df.dropna(inplace=True)\n",
    "    \n",
    "    # Feature Engineering\n",
    "    df[\"Lag1\"] = df[\"Close\"].shift(1)\n",
    "    df[\"Lag7\"] = df[\"Close\"].shift(7)\n",
    "    df[\"SMA7\"] = SMAIndicator(df[\"Close\"], window=7).sma_indicator()\n",
    "    df[\"RSI14\"] = RSIIndicator(df[\"Close\"], window=14).rsi()\n",
    "    df[\"MACD\"] = MACD(df[\"Close\"], window_slow=26, window_fast=12).macd()\n",
    "    df[\"Returns\"] = df[\"Close\"].pct_change()\n",
    "    df[\"Volatility\"] = df[\"High\"] - df[\"Low\"]\n",
    "    df[\"Target\"] = df[\"Close\"].shift(-1)\n",
    "    \n",
    "    \n",
    "    # Drop rows with NaN \n",
    "    df.dropna(inplace=True)\n",
    "    \n",
    "    # Save processed data\n",
    "    df.to_csv(f\"{ticker}_processed.csv\")\n",
    "    print(f\"Processed {ticker}: {df.shape} rows, columns: {list(df.columns)}\")\n",
    "\n",
    "\n",
    "print(\"\\nBTC-USD Sample:\")\n",
    "print(pd.read_csv(\"BTC-USD_processed.csv\").tail())"
   ]
  },
  {
   "cell_type": "code",
   "execution_count": null,
   "id": "886feb3d-05ad-4237-a2bc-9774fe5241e3",
   "metadata": {},
   "outputs": [],
   "source": []
  }
 ],
 "metadata": {
  "kernelspec": {
   "display_name": "Python [conda env:base] *",
   "language": "python",
   "name": "conda-base-py"
  },
  "language_info": {
   "codemirror_mode": {
    "name": "ipython",
    "version": 3
   },
   "file_extension": ".py",
   "mimetype": "text/x-python",
   "name": "python",
   "nbconvert_exporter": "python",
   "pygments_lexer": "ipython3",
   "version": "3.12.4"
  }
 },
 "nbformat": 4,
 "nbformat_minor": 5
}
