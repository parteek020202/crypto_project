{
 "cells": [
  {
   "cell_type": "code",
   "execution_count": 8,
   "id": "18fac973-20d3-448c-bffb-c3c6913533a1",
   "metadata": {},
   "outputs": [],
   "source": [
    "import yfinance as yf\n",
    "import pandas as pd\n",
    "from datetime import datetime, timedelta"
   ]
  },
  {
   "cell_type": "code",
   "execution_count": 12,
   "id": "929ae530-e693-45a4-81ee-a00055cff3bc",
   "metadata": {},
   "outputs": [],
   "source": [
    "def data_downloader():\n",
    "    #defining the tickers(crypto currencies)\n",
    "    tickers_30 = [\"BTC-USD\",\"ETH-USD\",\"USDT-USD\",\"XRP-USD\",\"BNB-USD\",\"SOL-USD\",\"USDC-USD\",\n",
    "                  \"DOGE-USD\",\"ADA-USD\",\"TRX-USD\",\"LINK-USD\",\"SUI-USD\",\"AVAX-USD\",\"XLM-USD\",\n",
    "                  \"TON-USD\",\"LTC-USD\",\"LEO-USD\",\"SHIB-USD\",\"HBAR-USD\",\"XMR-USD\",\"BCH-USD\",\n",
    "                  \"TUSD-USD\",\"DAI-USD\",\"WBTC-USD\",\"DOT-USD\",\"FIL-USD\",\"LDO-USD\",\"MATIC-USD\",\n",
    "                  \"OKB-USD\",\"ICP-USD\"]\n",
    "    \n",
    "    #Defining the date range\n",
    "    end_date = datetime.now()\n",
    "    start_date = end_date - timedelta(days = 365)\n",
    "\n",
    "    #downloading the data\n",
    "    data = yf.download(tickers = tickers_30, start = start_date, end=end_date, interval = \"1d\")\n",
    "\n",
    "    #extracting just the closing prices\n",
    "    closing_prices = data[\"Close\"]\n",
    "\n",
    "    #transposing the dataframe to have cryptos as rows and 365 days as columns\n",
    "    closing_prices_transposed = closing_prices.transpose()\n",
    "\n",
    "    #save as CSV\n",
    "    closing_prices_transposed.to_csv(\"crypto_30_365.csv\")\n",
    "\n",
    "\n",
    "    "
   ]
  },
  {
   "cell_type": "code",
   "execution_count": 14,
   "id": "2f56bf7b-5411-46d6-91b6-8fe43da1d889",
   "metadata": {},
   "outputs": [
    {
     "name": "stdout",
     "output_type": "stream",
     "text": [
      "YF.download() has changed argument auto_adjust default to True\n"
     ]
    },
    {
     "name": "stderr",
     "output_type": "stream",
     "text": [
      "[*********************100%***********************]  30 of 30 completed\n"
     ]
    }
   ],
   "source": [
    "data_downloader()"
   ]
  },
  {
   "cell_type": "code",
   "execution_count": null,
   "id": "a575aa42-896c-42dd-a5d4-0d8123135dfb",
   "metadata": {},
   "outputs": [],
   "source": []
  }
 ],
 "metadata": {
  "kernelspec": {
   "display_name": "Python [conda env:base] *",
   "language": "python",
   "name": "conda-base-py"
  },
  "language_info": {
   "codemirror_mode": {
    "name": "ipython",
    "version": 3
   },
   "file_extension": ".py",
   "mimetype": "text/x-python",
   "name": "python",
   "nbconvert_exporter": "python",
   "pygments_lexer": "ipython3",
   "version": "3.12.4"
  }
 },
 "nbformat": 4,
 "nbformat_minor": 5
}
