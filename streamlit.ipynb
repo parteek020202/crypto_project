{
 "cells": [
  {
   "cell_type": "code",
   "execution_count": null,
   "id": "68b56632-0300-47eb-844f-bb3d88915444",
   "metadata": {},
   "outputs": [],
   "source": []
  },
  {
   "cell_type": "code",
   "execution_count": 6,
   "id": "9ac48f4f-cf90-4182-a55a-0f6b85c400df",
   "metadata": {},
   "outputs": [
    {
     "name": "stderr",
     "output_type": "stream",
     "text": [
      "2025-04-01 01:43:14.731 No runtime found, using MemoryCacheStorageManager\n"
     ]
    },
    {
     "data": {
      "text/plain": [
       "False"
      ]
     },
     "execution_count": 6,
     "metadata": {},
     "output_type": "execute_result"
    }
   ],
   "source": [
    "import streamlit as st\n",
    "import pandas as pd\n",
    "import numpy as np\n",
    "import matplotlib.pyplot as plt\n",
    "from sklearn.svm import SVR\n",
    "import joblib\n",
    "from sklearn.metrics import mean_squared_error, mean_absolute_percentage_error\n",
    "import matplotlib.dates as mdates\n",
    "\n",
    "# Title and sidebar\n",
    "st.title(\"Advanced Crypto Price Prediction Dashboard\")\n",
    "st.sidebar.header(\"Settings\")\n",
    "ticker = st.sidebar.selectbox(\"Select Cryptocurrency\", [\"BNB-USD\", \"BTC-USD\", \"ETH-USD\", \"XRP-USD\"])\n",
    "\n",
    "# Load data and model\n",
    "@st.cache_data(hash_funcs={\"builtins.str\": hash})\n",
    "def load_data(ticker):\n",
    "    df = pd.read_csv(f\"{ticker}_processed.csv\", index_col=\"Date\", parse_dates=True)\n",
    "    features = [\"Open\", \"High\", \"Low\", \"Close\", \"Volume\", \"Lag1\", \"Lag7\", \"SMA7\", \"RSI14\", \"MACD\", \"Returns\", \"Volatility\"]\n",
    "    X = df[features].values\n",
    "    y = df[\"Target\"].values\n",
    "    return df, X, y\n",
    "\n",
    "@st.cache_resource(hash_funcs={\"builtins.str\": hash})\n",
    "def load_model(ticker):\n",
    "    model = joblib.load(f\"{ticker}_svr_model.pkl\")\n",
    "    scaler_X = joblib.load(f\"{ticker}_scaler_X_svr.pkl\")\n",
    "    return model, scaler_X\n",
    "\n",
    "df, X, y = load_data(ticker)\n",
    "model, scaler_X = load_model(ticker)\n",
    "\n",
    "# Prepare data for prediction\n",
    "train_size = int(len(X) * 0.8)\n",
    "X_train, X_test = X[:train_size], X[train_size:]\n",
    "y_train, y_test = y[:train_size], y[train_size:]\n",
    "X_train_scaled = scaler_X.transform(X_train)\n",
    "X_test_scaled = scaler_X.transform(X_test)\n",
    "\n",
    "# Predictions\n",
    "y_pred = model.predict(X_test_scaled)\n",
    "mse = mean_squared_error(y_test, y_pred)\n",
    "mape = mean_absolute_percentage_error(y_test, y_pred) * 100\n",
    "test_dates = df.index[train_size:]\n",
    "actual_series = pd.Series(y_test, index=test_dates)\n",
    "pred_series = pd.Series(y_pred, index=test_dates)\n",
    "actual_direction = (actual_series.shift(-1) > actual_series).iloc[:-1].astype(int)\n",
    "predicted_direction = (pred_series.shift(-1) > pred_series).iloc[:-1].astype(int)\n",
    "da = (actual_direction == predicted_direction).mean() * 100\n",
    "\n",
    "# Signal generation\n",
    "threshold = 0.015\n",
    "signals = pd.DataFrame(index=test_dates)\n",
    "signals[\"Actual\"] = actual_series\n",
    "signals[\"Predicted\"] = pred_series\n",
    "signals[\"Signal\"] = 0\n",
    "signals.loc[signals[\"Predicted\"] > signals[\"Actual\"] * (1 + threshold), \"Signal\"] = 1\n",
    "signals.loc[signals[\"Predicted\"] < signals[\"Actual\"] * (1 - threshold), \"Signal\"] = -1\n",
    "\n",
    "# Visualizations\n",
    "st.header(f\"{ticker} Predictions and Signals\")\n",
    "fig, ax = plt.subplots(figsize=(12, 6))\n",
    "ax.plot(signals.index, signals[\"Actual\"], label=\"Actual Price\", color=\"blue\")\n",
    "ax.plot(signals.index, signals[\"Predicted\"], label=\"Predicted Price\", color=\"orange\", linestyle=\"--\")\n",
    "ax.scatter(signals[signals[\"Signal\"] == 1].index, signals[signals[\"Signal\"] == 1][\"Actual\"], marker=\"^\", color=\"green\", label=\"Buy\", s=100)\n",
    "ax.scatter(signals[signals[\"Signal\"] == -1].index, signals[signals[\"Signal\"] == -1][\"Actual\"], marker=\"v\", color=\"red\", label=\"Sell\", s=100)\n",
    "ax.set_title(f\"{ticker} Price Prediction and Signals\")\n",
    "ax.set_xlabel(\"Date\")\n",
    "ax.set_ylabel(\"Price (USD)\")\n",
    "ax.legend()\n",
    "ax.grid(True)\n",
    "ax.xaxis.set_major_locator(mdates.AutoDateLocator())\n",
    "ax.xaxis.set_major_formatter(mdates.DateFormatter(\"%Y-%m-%d\"))\n",
    "plt.setp(ax.get_xticklabels(), rotation=45, ha=\"right\")\n",
    "st.pyplot(fig)\n",
    "\n",
    "# Metrics\n",
    "st.header(\"Model Performance\")\n",
    "st.write(f\"Mean Squared Error (MSE): {mse:.2f}\")\n",
    "st.write(f\"Mean Absolute Percentage Error (MAPE): {mape:.2f}%\")\n",
    "st.write(f\"Directional Accuracy: {da:.2f}%\")\n",
    "\n",
    "# Downloadable Report\n",
    "st.header(\"Download Report\")\n",
    "report_data = signals.to_csv(index=True)\n",
    "st.download_button(label=\"Download Predictions\", data=report_data, file_name=f\"{ticker}_predictions.csv\", mime=\"text/csv\")\n",
    "\n",
    "\n",
    "# Run with streamlit1.py"
   ]
  },
  {
   "cell_type": "code",
   "execution_count": null,
   "id": "34e831d1-0313-4498-a685-a04f01cac254",
   "metadata": {},
   "outputs": [],
   "source": []
  }
 ],
 "metadata": {
  "kernelspec": {
   "display_name": "Python [conda env:base] *",
   "language": "python",
   "name": "conda-base-py"
  },
  "language_info": {
   "codemirror_mode": {
    "name": "ipython",
    "version": 3
   },
   "file_extension": ".py",
   "mimetype": "text/x-python",
   "name": "python",
   "nbconvert_exporter": "python",
   "pygments_lexer": "ipython3",
   "version": "3.12.4"
  }
 },
 "nbformat": 4,
 "nbformat_minor": 5
}
